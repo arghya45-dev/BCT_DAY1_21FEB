{
 "cells": [
  {
   "cell_type": "code",
   "execution_count": null,
   "metadata": {},
   "outputs": [
    {
     "name": "stdout",
     "output_type": "stream",
     "text": [
      "square the number 2.0 is 4.0\n"
     ]
    }
   ],
   "source": [
    "# square of a nuhmber \n",
    "a=float(input(\"enter the number=\"))\n",
    "sq = a**2 \n",
    "print(\"square the number\",a,\"is\",sq)"
   ]
  },
  {
   "cell_type": "code",
   "execution_count": null,
   "metadata": {},
   "outputs": [
    {
     "name": "stdout",
     "output_type": "stream",
     "text": [
      "The volume of the cuboid1.0  ,2.0 , 3.0 is 6.0 cubic units.\n"
     ]
    }
   ],
   "source": [
    "# volume of a cuboid\n",
    "length = float(input(\"Enter the length of the cuboid: \"))\n",
    "width = float(input(\"Enter the width of the cuboid: \"))\n",
    "height = float(input(\"Enter the height of the cuboid: \"))\n",
    "volume = length * width * height\n",
    "\n",
    "print(f\"The volume of the cuboid {length}  ,{width} , {height} is {volume} cubic units.\")\n"
   ]
  },
  {
   "cell_type": "code",
   "execution_count": null,
   "metadata": {},
   "outputs": [
    {
     "name": "stdout",
     "output_type": "stream",
     "text": [
      "The Simple Interest is: 124.2\n"
     ]
    }
   ],
   "source": [
    "# print simple interest\n",
    "P = float(input(\"Enter the Principal amount: \"))\n",
    "R = float(input(\"Enter the Rate of Interest (per annum): \"))\n",
    "T = float(input(\"Enter the Time (in years): \"))\n",
    "\n",
    "SI = (P * R * T) / 100\n",
    "\n",
    "print(f\"The Simple Interest is: {SI}\")\n"
   ]
  },
  {
   "cell_type": "code",
   "execution_count": null,
   "metadata": {},
   "outputs": [
    {
     "name": "stdout",
     "output_type": "stream",
     "text": [
      "The number is Negative.\n"
     ]
    }
   ],
   "source": [
    "# print a  number is positive , negetive or zero\n",
    "num = float(input(\"Enter a number: \"))\n",
    "\n",
    "if num > 0:\n",
    "    print(\"The number is Positive.\")\n",
    "elif num < 0:\n",
    "    print(\"The number is Negative.\")\n",
    "else:\n",
    "    print(\"The number is Zero.\")\n"
   ]
  },
  {
   "cell_type": "code",
   "execution_count": 15,
   "metadata": {},
   "outputs": [
    {
     "name": "stdout",
     "output_type": "stream",
     "text": [
      "student 10\n",
      "student 9\n",
      "student 8\n",
      "student 7\n",
      "student 6\n",
      "student 5\n",
      "student 4\n",
      "student 3\n",
      "student 2\n",
      "student 1\n"
     ]
    }
   ],
   "source": [
    "# while loop\n",
    "x=10\n",
    "while x>=1:\n",
    "    print(\"student\",x)\n",
    "    x=x-1"
   ]
  },
  {
   "cell_type": "code",
   "execution_count": 17,
   "metadata": {},
   "outputs": [
    {
     "name": "stdout",
     "output_type": "stream",
     "text": [
      "x is smaller\n"
     ]
    }
   ],
   "source": [
    "x=10\n",
    "y=11\n",
    "while x>y:\n",
    "    print(\"X is bigger\")\n",
    "else :\n",
    "    print(\"x is smaller\")\n",
    "    "
   ]
  },
  {
   "cell_type": "code",
   "execution_count": null,
   "metadata": {},
   "outputs": [
    {
     "name": "stdout",
     "output_type": "stream",
     "text": [
      "x is smaller\n"
     ]
    }
   ],
   "source": [
    "# \n",
    "x=10\n",
    "y=11\n",
    "while x>y:\n",
    "    while x<y:\n",
    "        print(\"x is smaller\")\n",
    "        \n",
    "print(\"x is smaller\")"
   ]
  },
  {
   "cell_type": "code",
   "execution_count": null,
   "metadata": {},
   "outputs": [
    {
     "name": "stdout",
     "output_type": "stream",
     "text": [
      "The letter 'a' appears 2 times in 'arghya'.\n"
     ]
    }
   ],
   "source": [
    "# white a program to count a specific letter in a word\n",
    "\n",
    "word = input(\"enter a word\").lower()\n",
    "letter = input (\"enter a letter\").lower()\n",
    "\n",
    "count = 0 \n",
    "\n",
    "for char in word:\n",
    "    if  char == letter:\n",
    "        count += 1\n",
    "        \n",
    "print(f\"The letter '{letter}' appears {count} times in '{word}'.\")"
   ]
  },
  {
   "cell_type": "code",
   "execution_count": null,
   "metadata": {},
   "outputs": [
    {
     "name": "stdout",
     "output_type": "stream",
     "text": [
      "you win\n"
     ]
    }
   ],
   "source": [
    "# user have three chance to win by giving even number \n",
    "chance =1 \n",
    "while chance >=3:\n",
    "    x=int(input(\"enter even number : \"))\n",
    "    if x%2==0:\n",
    "        break\n",
    "    chance+=1\n",
    "    \n",
    "if chance == 4:\n",
    "    print(\"you lost\")\n",
    "else:\n",
    "    print(\"you win\")\n"
   ]
  },
  {
   "cell_type": "code",
   "execution_count": 11,
   "metadata": {},
   "outputs": [
    {
     "name": "stdout",
     "output_type": "stream",
     "text": [
      "2024 is a leap year\n"
     ]
    }
   ],
   "source": [
    "#leap year\n",
    "year =2024\n",
    "\n",
    "if(year%4 ==0 and year%100!=0)or(year%400==0):\n",
    " print(f\"{year} is a leap year\")\n",
    "else:\n",
    " print(f\"{year} is not a leap year\")"
   ]
  }
 ],
 "metadata": {
  "kernelspec": {
   "display_name": "Python 3",
   "language": "python",
   "name": "python3"
  },
  "language_info": {
   "codemirror_mode": {
    "name": "ipython",
    "version": 3
   },
   "file_extension": ".py",
   "mimetype": "text/x-python",
   "name": "python",
   "nbconvert_exporter": "python",
   "pygments_lexer": "ipython3",
   "version": "3.13.1"
  }
 },
 "nbformat": 4,
 "nbformat_minor": 2
}
